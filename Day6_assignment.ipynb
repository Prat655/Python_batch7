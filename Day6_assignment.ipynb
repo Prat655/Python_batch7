{
 "cells": [
  {
   "cell_type": "markdown",
   "metadata": {},
   "source": [
    "# Assignment 1 Day 6"
   ]
  },
  {
   "cell_type": "code",
   "execution_count": 2,
   "metadata": {},
   "outputs": [],
   "source": [
    "class BankAccount():\n",
    "    def __init__( self, ownerName, balance ):\n",
    "        self.ownerName = ownerName\n",
    "        self.balance = balance\n",
    "        \n",
    "    def deposit(self):\n",
    "        amount = float(input(\"Enter amount to deposit : \"))\n",
    "        self.balance += amount\n",
    "        print(\"Your credited account balance is : \",self.balance)\n",
    "        \n",
    "    def withdraw(self):\n",
    "        amount = float(input(\"Enter amount to withdraw : \"))\n",
    "        if (amount > self.balance):\n",
    "            print(\"Insufficient account balance !!!\")\n",
    "        else:\n",
    "            self.balance -= amount\n",
    "            print(\"Your debited account balance is : \",self.balance)\n",
    "            "
   ]
  },
  {
   "cell_type": "code",
   "execution_count": 3,
   "metadata": {},
   "outputs": [
    {
     "name": "stdout",
     "output_type": "stream",
     "text": [
      "Enter account holder name : Mr.Patil\n"
     ]
    }
   ],
   "source": [
    "ba = BankAccount(ownerName = input(\"Enter account holder name : \"), balance = 0 )"
   ]
  },
  {
   "cell_type": "code",
   "execution_count": 4,
   "metadata": {},
   "outputs": [
    {
     "name": "stdout",
     "output_type": "stream",
     "text": [
      "Enter amount to deposit : 2000\n",
      "Your credited account balance is :  2000.0\n"
     ]
    }
   ],
   "source": [
    "ba.deposit()"
   ]
  },
  {
   "cell_type": "code",
   "execution_count": 5,
   "metadata": {},
   "outputs": [
    {
     "name": "stdout",
     "output_type": "stream",
     "text": [
      "Enter amount to deposit : 1000\n",
      "Your credited account balance is :  3000.0\n"
     ]
    }
   ],
   "source": [
    "ba.deposit()"
   ]
  },
  {
   "cell_type": "code",
   "execution_count": 6,
   "metadata": {},
   "outputs": [
    {
     "name": "stdout",
     "output_type": "stream",
     "text": [
      "Enter amount to deposit : 500\n",
      "Your credited account balance is :  3500.0\n"
     ]
    }
   ],
   "source": [
    "ba.deposit()"
   ]
  },
  {
   "cell_type": "code",
   "execution_count": 7,
   "metadata": {},
   "outputs": [
    {
     "name": "stdout",
     "output_type": "stream",
     "text": [
      "Enter amount to withdraw : 1000\n",
      "Your debited account balance is :  2500.0\n"
     ]
    }
   ],
   "source": [
    "ba.withdraw()"
   ]
  },
  {
   "cell_type": "code",
   "execution_count": 8,
   "metadata": {},
   "outputs": [
    {
     "name": "stdout",
     "output_type": "stream",
     "text": [
      "Enter amount to withdraw : 600\n",
      "Your debited account balance is :  1900.0\n"
     ]
    }
   ],
   "source": [
    "ba.withdraw()"
   ]
  },
  {
   "cell_type": "code",
   "execution_count": 9,
   "metadata": {},
   "outputs": [
    {
     "name": "stdout",
     "output_type": "stream",
     "text": [
      "Enter amount to withdraw : 2000\n",
      "Insufficient account balance !!!\n"
     ]
    }
   ],
   "source": [
    "ba.withdraw()"
   ]
  },
  {
   "cell_type": "markdown",
   "metadata": {},
   "source": [
    "# Assignment 2 Day 6"
   ]
  },
  {
   "cell_type": "code",
   "execution_count": 10,
   "metadata": {},
   "outputs": [],
   "source": [
    "import math\n",
    "pi = math.pi\n",
    "\n",
    "class Cone():\n",
    "    def __init__( self, radius, height ):\n",
    "    \n",
    "        self.radius = radius \n",
    "        self.height = height\n",
    "    \n",
    "    def volume(self):\n",
    "        vol = (1/3) * pi * self.radius * self.radius * self.height\n",
    "        print (\"Volume of cone is : \",vol)\n",
    "        \n",
    "    def surfaceArea(self):\n",
    "        area = pi * self.radius * self.radius + pi * self.radius * (self.radius**2 + self.height**2)**(1/2)\n",
    "        print(\"Surface area of cone is : \",area)\n",
    "        "
   ]
  },
  {
   "cell_type": "code",
   "execution_count": 11,
   "metadata": {},
   "outputs": [
    {
     "name": "stdout",
     "output_type": "stream",
     "text": [
      "Enter radius of cone : 5\n",
      "Enter height of cone : 12\n"
     ]
    }
   ],
   "source": [
    "co = Cone(radius = float(input(\"Enter radius of cone : \")),\n",
    "    height = float(input(\"Enter height of cone : \"))\n",
    "    )"
   ]
  },
  {
   "cell_type": "code",
   "execution_count": 12,
   "metadata": {},
   "outputs": [
    {
     "name": "stdout",
     "output_type": "stream",
     "text": [
      "Volume of cone is :  314.15926535897927\n"
     ]
    }
   ],
   "source": [
    "co.volume()"
   ]
  },
  {
   "cell_type": "code",
   "execution_count": 13,
   "metadata": {},
   "outputs": [
    {
     "name": "stdout",
     "output_type": "stream",
     "text": [
      "Surface area of cone is :  282.7433388230814\n"
     ]
    }
   ],
   "source": [
    "co.surfaceArea()"
   ]
  },
  {
   "cell_type": "code",
   "execution_count": null,
   "metadata": {},
   "outputs": [],
   "source": []
  }
 ],
 "metadata": {
  "kernelspec": {
   "display_name": "Python 3",
   "language": "python",
   "name": "python3"
  },
  "language_info": {
   "codemirror_mode": {
    "name": "ipython",
    "version": 3
   },
   "file_extension": ".py",
   "mimetype": "text/x-python",
   "name": "python",
   "nbconvert_exporter": "python",
   "pygments_lexer": "ipython3",
   "version": "3.8.3"
  }
 },
 "nbformat": 4,
 "nbformat_minor": 4
}
