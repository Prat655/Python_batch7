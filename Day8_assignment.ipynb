{
 "cells": [
  {
   "cell_type": "markdown",
   "metadata": {},
   "source": [
    "# Assignment 1 Day 8"
   ]
  },
  {
   "cell_type": "code",
   "execution_count": 13,
   "metadata": {},
   "outputs": [
    {
     "name": "stdout",
     "output_type": "stream",
     "text": [
      "120\n"
     ]
    }
   ],
   "source": [
    "def memoize_factorial(f): \n",
    "    memory = {} \n",
    "    def inner(num): \n",
    "        if num not in memory:          \n",
    "            memory[num] = f(num) \n",
    "        return memory[num] \n",
    "  \n",
    "    return inner \n",
    "      \n",
    "@memoize_factorial\n",
    "def facto(num): \n",
    "    if num == 1: \n",
    "        return 1\n",
    "    else: \n",
    "        return num * facto(num-1) \n",
    "  \n",
    "print(facto(5)) "
   ]
  },
  {
   "cell_type": "markdown",
   "metadata": {},
   "source": [
    "# Assignment 2 Day 8"
   ]
  },
  {
   "cell_type": "code",
   "execution_count": 17,
   "metadata": {},
   "outputs": [
    {
     "name": "stdout",
     "output_type": "stream",
     "text": [
      "not writable\n",
      "Error occur handle by exception Successfully \n"
     ]
    }
   ],
   "source": [
    "try :\n",
    "    file = open(\"file.txt\",\"r\")\n",
    "    file.write(\"HI\")\n",
    "    file.close()\n",
    "    print(\"Successfully write into file.\")\n",
    "except Exception as e:\n",
    "    print(e)\n",
    "finally:\n",
    "    print(\"Error occur handle by exception Successfully \")\n"
   ]
  },
  {
   "cell_type": "code",
   "execution_count": null,
   "metadata": {},
   "outputs": [],
   "source": []
  }
 ],
 "metadata": {
  "kernelspec": {
   "display_name": "Python 3",
   "language": "python",
   "name": "python3"
  },
  "language_info": {
   "codemirror_mode": {
    "name": "ipython",
    "version": 3
   },
   "file_extension": ".py",
   "mimetype": "text/x-python",
   "name": "python",
   "nbconvert_exporter": "python",
   "pygments_lexer": "ipython3",
   "version": "3.8.3"
  }
 },
 "nbformat": 4,
 "nbformat_minor": 4
}
